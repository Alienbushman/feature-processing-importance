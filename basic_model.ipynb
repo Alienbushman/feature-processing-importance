{
 "cells": [
  {
   "cell_type": "code",
   "execution_count": 197,
   "metadata": {
    "collapsed": true
   },
   "outputs": [],
   "source": [
    "import pandas as pd\n"
   ]
  },
  {
   "cell_type": "code",
   "execution_count": 198,
   "outputs": [
    {
     "data": {
      "text/plain": "                 EventTime  Measure Class\n0      2020-08-17 18:30:00      269   NaN\n1      2020-08-17 18:40:00      380   NaN\n2      2020-08-17 18:50:00      386   NaN\n3      2020-08-17 19:00:00      376   NaN\n4      2020-08-17 19:10:00      374   NaN\n...                    ...      ...   ...\n24880  2021-02-06 23:10:00      511   NaN\n24881  2021-02-06 23:20:00      507   NaN\n24882  2021-02-06 23:30:00      513   NaN\n24883  2021-02-06 23:40:00      506   NaN\n24884  2021-02-06 23:50:00      514   NaN\n\n[24885 rows x 3 columns]",
      "text/html": "<div>\n<style scoped>\n    .dataframe tbody tr th:only-of-type {\n        vertical-align: middle;\n    }\n\n    .dataframe tbody tr th {\n        vertical-align: top;\n    }\n\n    .dataframe thead th {\n        text-align: right;\n    }\n</style>\n<table border=\"1\" class=\"dataframe\">\n  <thead>\n    <tr style=\"text-align: right;\">\n      <th></th>\n      <th>EventTime</th>\n      <th>Measure</th>\n      <th>Class</th>\n    </tr>\n  </thead>\n  <tbody>\n    <tr>\n      <th>0</th>\n      <td>2020-08-17 18:30:00</td>\n      <td>269</td>\n      <td>NaN</td>\n    </tr>\n    <tr>\n      <th>1</th>\n      <td>2020-08-17 18:40:00</td>\n      <td>380</td>\n      <td>NaN</td>\n    </tr>\n    <tr>\n      <th>2</th>\n      <td>2020-08-17 18:50:00</td>\n      <td>386</td>\n      <td>NaN</td>\n    </tr>\n    <tr>\n      <th>3</th>\n      <td>2020-08-17 19:00:00</td>\n      <td>376</td>\n      <td>NaN</td>\n    </tr>\n    <tr>\n      <th>4</th>\n      <td>2020-08-17 19:10:00</td>\n      <td>374</td>\n      <td>NaN</td>\n    </tr>\n    <tr>\n      <th>...</th>\n      <td>...</td>\n      <td>...</td>\n      <td>...</td>\n    </tr>\n    <tr>\n      <th>24880</th>\n      <td>2021-02-06 23:10:00</td>\n      <td>511</td>\n      <td>NaN</td>\n    </tr>\n    <tr>\n      <th>24881</th>\n      <td>2021-02-06 23:20:00</td>\n      <td>507</td>\n      <td>NaN</td>\n    </tr>\n    <tr>\n      <th>24882</th>\n      <td>2021-02-06 23:30:00</td>\n      <td>513</td>\n      <td>NaN</td>\n    </tr>\n    <tr>\n      <th>24883</th>\n      <td>2021-02-06 23:40:00</td>\n      <td>506</td>\n      <td>NaN</td>\n    </tr>\n    <tr>\n      <th>24884</th>\n      <td>2021-02-06 23:50:00</td>\n      <td>514</td>\n      <td>NaN</td>\n    </tr>\n  </tbody>\n</table>\n<p>24885 rows × 3 columns</p>\n</div>"
     },
     "execution_count": 198,
     "metadata": {},
     "output_type": "execute_result"
    }
   ],
   "source": [
    "df = pd.read_csv('data/dataset.csv')\n",
    "train_df = df[(df['EventTime'] <= '2021-02-07')]\n",
    "test_df = df[(df['EventTime'] > '2021-02-07')]\n",
    "train_df"
   ],
   "metadata": {
    "collapsed": false
   }
  },
  {
   "cell_type": "code",
   "execution_count": 199,
   "outputs": [],
   "source": [
    "def processing_steps(df, window=10, feature_engineering=True):\n",
    "    # process target feature\n",
    "    df['Class'] = df['Class'].replace(\"S\", 1)\n",
    "    df['Class'] = df['Class'].fillna(0)\n",
    "    if feature_engineering:\n",
    "        # convert the time to a more usable format (from testing time does not seem to be a useful metric)\n",
    "        df['EventTime'] = pd.to_datetime(df['EventTime'])\n",
    "        df['weekday'] = df['EventTime'].dt.weekday\n",
    "        df['hour'] = df['EventTime'].dt.hour\n",
    "        df['minute'] = df['EventTime'].dt.minute\n",
    "\n",
    "        # add in a time element\n",
    "        df['rolling_average'] = df['Measure'].rolling(window=window).mean()\n",
    "        df['diff_mean'] = df['Measure'] - df['rolling_average']\n",
    "        for i in range(1, window):\n",
    "            df[f'lag_{i}'] = df['Measure'].shift(i)\n",
    "            df[f'percent_change_{i}'] = df['Measure'].pct_change()\n",
    "            df[f'diff_lag_{i}'] = df['Measure'] - df[f'lag_{i}']\n",
    "\n",
    "\n",
    "        # technically this is losing the first window elements, but this demonstrates the idea (to compensate you either need to read in the test set and split again or you use a model that can handle nans)\n",
    "        df = df.dropna()\n",
    "    df = df.drop('EventTime', axis=1)\n",
    "\n",
    "    y = df[\"Class\"]\n",
    "    X = df.drop(\"Class\", axis=1)\n",
    "    return X, y"
   ],
   "metadata": {
    "collapsed": false
   }
  },
  {
   "cell_type": "code",
   "execution_count": 200,
   "outputs": [],
   "source": [
    "feature_engineering = True\n",
    "X_train, y_train = processing_steps(train_df.copy(), feature_engineering=feature_engineering)\n",
    "X_test, y_test = processing_steps(test_df.copy(), feature_engineering=feature_engineering)\n"
   ],
   "metadata": {
    "collapsed": false
   }
  },
  {
   "cell_type": "code",
   "execution_count": 201,
   "outputs": [],
   "source": [
    "from sklearn.ensemble import RandomForestClassifier\n",
    "from xgboost import XGBClassifier\n",
    "\n",
    "model = RandomForestClassifier()\n",
    "# model = XGBClassifier()\n",
    "model.fit(X_train, y_train)\n",
    "y_pred = model.predict(X_test)"
   ],
   "metadata": {
    "collapsed": false
   }
  },
  {
   "cell_type": "code",
   "execution_count": 202,
   "outputs": [
    {
     "name": "stdout",
     "output_type": "stream",
     "text": [
      "f1 score = 0.5128205128205129\n",
      "balanced accuracy = 0.678509616233686\n",
      "accuracy = 0.9976592337070346\n",
      "precision = 0.9090909090909091\n",
      "recall = 0.35714285714285715\n",
      "roc = 0.678509616233686\n",
      "confusion_matrix \n",
      "[[8088    1]\n",
      " [  18   10]]\n"
     ]
    }
   ],
   "source": [
    "from sklearn.metrics import f1_score, accuracy_score, balanced_accuracy_score, precision_score, recall_score, \\\n",
    "    roc_auc_score, confusion_matrix\n",
    "\n",
    "\n",
    "def metrics(y_test, y_pred):\n",
    "    print(f'f1 score = {f1_score(y_test, y_pred)}')\n",
    "    print(f'balanced accuracy = {balanced_accuracy_score(y_test, y_pred)}')\n",
    "    print(f'accuracy = {accuracy_score(y_test, y_pred)}')\n",
    "    print(f'precision = {precision_score(y_test, y_pred)}')\n",
    "    print(f'recall = {recall_score(y_test, y_pred)}')\n",
    "    print(f'roc = {roc_auc_score(y_test, y_pred)}')\n",
    "\n",
    "    CM = confusion_matrix(y_test, y_pred)\n",
    "    print(f'confusion_matrix \\n{CM}')\n",
    "\n",
    "\n",
    "metrics(y_test, y_pred)\n",
    "# basically there is extreme imbalance, where with 28 anomalies are easy to identify, so the model only predicts them when completely certain"
   ],
   "metadata": {
    "collapsed": false
   }
  },
  {
   "cell_type": "code",
   "execution_count": 203,
   "outputs": [],
   "source": [
    "y_pred_prob = model.predict_proba(X_test)[:, 0]\n"
   ],
   "metadata": {
    "collapsed": false
   }
  },
  {
   "cell_type": "code",
   "execution_count": 204,
   "outputs": [
    {
     "name": "stdout",
     "output_type": "stream",
     "text": [
      "0.07280389594334458\n"
     ]
    },
    {
     "data": {
      "text/plain": "<Figure size 432x288 with 1 Axes>",
      "image/png": "[encoded data removed]"
     },
     "metadata": {
      "needs_background": "light"
     },
     "output_type": "display_data"
    }
   ],
   "source": [
    "# plotting the ROC curve to get an indication of the threshold\n",
    "# there is a linear relationship where you can balance to let it more normal cases in exchange for letting in more false positives\n",
    "import matplotlib.pyplot as plt\n",
    "from sklearn.metrics import roc_curve, auc\n",
    "\n",
    "fpr = dict()\n",
    "tpr = dict()\n",
    "roc_auc = dict()\n",
    "for i in range(2):\n",
    "    fpr[i], tpr[i], _ = roc_curve(y_test, y_pred_prob)\n",
    "    roc_auc[i] = auc(fpr[i], tpr[i])\n",
    "print(roc_auc_score(y_test, y_pred_prob))\n",
    "\n",
    "plt.figure()\n",
    "plt.plot(fpr[1], tpr[1])\n",
    "plt.xlim([0.0, 1.0])\n",
    "plt.ylim([0.0, 1.05])\n",
    "plt.xlabel('False Positive Rate')\n",
    "plt.ylabel('True Positive Rate')\n",
    "plt.title('Receiver operating characteristic')\n",
    "plt.show()"
   ],
   "metadata": {
    "collapsed": false
   }
  },
  {
   "cell_type": "code",
   "execution_count": 205,
   "outputs": [
    {
     "name": "stdout",
     "output_type": "stream",
     "text": [
      "f1 score = 0.4380952380952381\n",
      "balanced accuracy = 0.9073764194761846\n",
      "accuracy = 0.9927313046692128\n",
      "precision = 0.2987012987012987\n",
      "recall = 0.8214285714285714\n",
      "roc = 0.9073764194761846\n",
      "confusion_matrix \n",
      "[[8035   54]\n",
      " [   5   23]]\n"
     ]
    }
   ],
   "source": [
    "import numpy as np\n",
    "\n",
    "# if detecting the outliers are really important, you can add in a few false positives here (based on business requirements you can adjust the acceptable threshold)\n",
    "new_pred = np.where(y_pred_prob < .99, 1, 0)\n",
    "metrics(y_test, new_pred)"
   ],
   "metadata": {
    "collapsed": false
   }
  }
 ],
 "metadata": {
  "kernelspec": {
   "display_name": "Python 3",
   "language": "python",
   "name": "python3"
  },
  "language_info": {
   "codemirror_mode": {
    "name": "ipython",
    "version": 2
   },
   "file_extension": ".py",
   "mimetype": "text/x-python",
   "name": "python",
   "nbconvert_exporter": "python",
   "pygments_lexer": "ipython2",
   "version": "2.7.6"
  }
 },
 "nbformat": 4,
 "nbformat_minor": 0
}
