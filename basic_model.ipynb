{
 "cells": [
  {
   "cell_type": "code",
   "execution_count": 21,
   "metadata": {
    "collapsed": true
   },
   "outputs": [],
   "source": [
    "import pandas as pd\n"
   ]
  },
  {
   "cell_type": "code",
   "execution_count": 31,
   "outputs": [
    {
     "data": {
      "text/plain": "               EventTime  Measure Class\n0    2020-08-17 18:30:00      269   NaN\n1    2020-08-17 18:40:00      380   NaN\n2    2020-08-17 18:50:00      386   NaN\n3    2020-08-17 19:00:00      376   NaN\n4    2020-08-17 19:10:00      374   NaN\n...                  ...      ...   ...\n8006 2021-04-04 12:20:00      477   NaN\n8007 2021-04-04 12:30:00      584   NaN\n8008 2021-04-04 12:40:00      480   NaN\n8009 2021-04-04 12:50:00      472   NaN\n8010 2021-04-04 13:00:00      548   NaN\n\n[33011 rows x 3 columns]",
      "text/html": "<div>\n<style scoped>\n    .dataframe tbody tr th:only-of-type {\n        vertical-align: middle;\n    }\n\n    .dataframe tbody tr th {\n        vertical-align: top;\n    }\n\n    .dataframe thead th {\n        text-align: right;\n    }\n</style>\n<table border=\"1\" class=\"dataframe\">\n  <thead>\n    <tr style=\"text-align: right;\">\n      <th></th>\n      <th>EventTime</th>\n      <th>Measure</th>\n      <th>Class</th>\n    </tr>\n  </thead>\n  <tbody>\n    <tr>\n      <th>0</th>\n      <td>2020-08-17 18:30:00</td>\n      <td>269</td>\n      <td>NaN</td>\n    </tr>\n    <tr>\n      <th>1</th>\n      <td>2020-08-17 18:40:00</td>\n      <td>380</td>\n      <td>NaN</td>\n    </tr>\n    <tr>\n      <th>2</th>\n      <td>2020-08-17 18:50:00</td>\n      <td>386</td>\n      <td>NaN</td>\n    </tr>\n    <tr>\n      <th>3</th>\n      <td>2020-08-17 19:00:00</td>\n      <td>376</td>\n      <td>NaN</td>\n    </tr>\n    <tr>\n      <th>4</th>\n      <td>2020-08-17 19:10:00</td>\n      <td>374</td>\n      <td>NaN</td>\n    </tr>\n    <tr>\n      <th>...</th>\n      <td>...</td>\n      <td>...</td>\n      <td>...</td>\n    </tr>\n    <tr>\n      <th>8006</th>\n      <td>2021-04-04 12:20:00</td>\n      <td>477</td>\n      <td>NaN</td>\n    </tr>\n    <tr>\n      <th>8007</th>\n      <td>2021-04-04 12:30:00</td>\n      <td>584</td>\n      <td>NaN</td>\n    </tr>\n    <tr>\n      <th>8008</th>\n      <td>2021-04-04 12:40:00</td>\n      <td>480</td>\n      <td>NaN</td>\n    </tr>\n    <tr>\n      <th>8009</th>\n      <td>2021-04-04 12:50:00</td>\n      <td>472</td>\n      <td>NaN</td>\n    </tr>\n    <tr>\n      <th>8010</th>\n      <td>2021-04-04 13:00:00</td>\n      <td>548</td>\n      <td>NaN</td>\n    </tr>\n  </tbody>\n</table>\n<p>33011 rows × 3 columns</p>\n</div>"
     },
     "execution_count": 31,
     "metadata": {},
     "output_type": "execute_result"
    }
   ],
   "source": [],
   "metadata": {
    "collapsed": false
   }
  },
  {
   "cell_type": "code",
   "execution_count": 32,
   "outputs": [
    {
     "data": {
      "text/plain": "                 EventTime  Measure Class\n0      2020-08-17 18:30:00      269   NaN\n1      2020-08-17 18:40:00      380   NaN\n2      2020-08-17 18:50:00      386   NaN\n3      2020-08-17 19:00:00      376   NaN\n4      2020-08-17 19:10:00      374   NaN\n...                    ...      ...   ...\n24880  2021-02-06 23:10:00      511   NaN\n24881  2021-02-06 23:20:00      507   NaN\n24882  2021-02-06 23:30:00      513   NaN\n24883  2021-02-06 23:40:00      506   NaN\n24884  2021-02-06 23:50:00      514   NaN\n\n[24885 rows x 3 columns]",
      "text/html": "<div>\n<style scoped>\n    .dataframe tbody tr th:only-of-type {\n        vertical-align: middle;\n    }\n\n    .dataframe tbody tr th {\n        vertical-align: top;\n    }\n\n    .dataframe thead th {\n        text-align: right;\n    }\n</style>\n<table border=\"1\" class=\"dataframe\">\n  <thead>\n    <tr style=\"text-align: right;\">\n      <th></th>\n      <th>EventTime</th>\n      <th>Measure</th>\n      <th>Class</th>\n    </tr>\n  </thead>\n  <tbody>\n    <tr>\n      <th>0</th>\n      <td>2020-08-17 18:30:00</td>\n      <td>269</td>\n      <td>NaN</td>\n    </tr>\n    <tr>\n      <th>1</th>\n      <td>2020-08-17 18:40:00</td>\n      <td>380</td>\n      <td>NaN</td>\n    </tr>\n    <tr>\n      <th>2</th>\n      <td>2020-08-17 18:50:00</td>\n      <td>386</td>\n      <td>NaN</td>\n    </tr>\n    <tr>\n      <th>3</th>\n      <td>2020-08-17 19:00:00</td>\n      <td>376</td>\n      <td>NaN</td>\n    </tr>\n    <tr>\n      <th>4</th>\n      <td>2020-08-17 19:10:00</td>\n      <td>374</td>\n      <td>NaN</td>\n    </tr>\n    <tr>\n      <th>...</th>\n      <td>...</td>\n      <td>...</td>\n      <td>...</td>\n    </tr>\n    <tr>\n      <th>24880</th>\n      <td>2021-02-06 23:10:00</td>\n      <td>511</td>\n      <td>NaN</td>\n    </tr>\n    <tr>\n      <th>24881</th>\n      <td>2021-02-06 23:20:00</td>\n      <td>507</td>\n      <td>NaN</td>\n    </tr>\n    <tr>\n      <th>24882</th>\n      <td>2021-02-06 23:30:00</td>\n      <td>513</td>\n      <td>NaN</td>\n    </tr>\n    <tr>\n      <th>24883</th>\n      <td>2021-02-06 23:40:00</td>\n      <td>506</td>\n      <td>NaN</td>\n    </tr>\n    <tr>\n      <th>24884</th>\n      <td>2021-02-06 23:50:00</td>\n      <td>514</td>\n      <td>NaN</td>\n    </tr>\n  </tbody>\n</table>\n<p>24885 rows × 3 columns</p>\n</div>"
     },
     "execution_count": 32,
     "metadata": {},
     "output_type": "execute_result"
    }
   ],
   "source": [
    "df = pd.read_csv('data/dataset.csv')\n",
    "train_df = df[(df['EventTime'] <= '2021-02-07')]\n",
    "test_df = df[(df['EventTime'] > '2021-02-07')]\n",
    "train_df"
   ],
   "metadata": {
    "collapsed": false
   }
  },
  {
   "cell_type": "code",
   "execution_count": 29,
   "outputs": [
    {
     "data": {
      "text/plain": "Timestamp('2021-02-07 00:10:00')"
     },
     "execution_count": 29,
     "metadata": {},
     "output_type": "execute_result"
    }
   ],
   "source": [],
   "metadata": {
    "collapsed": false
   }
  },
  {
   "cell_type": "code",
   "execution_count": 30,
   "outputs": [
    {
     "data": {
      "text/plain": "Timestamp('2021-02-07 00:00:00')"
     },
     "execution_count": 30,
     "metadata": {},
     "output_type": "execute_result"
    }
   ],
   "source": [],
   "metadata": {
    "collapsed": false
   }
  },
  {
   "cell_type": "code",
   "execution_count": 273,
   "outputs": [],
   "source": [
    "train_df = pd.read_csv('training.csv')\n",
    "test_df = pd.read_csv('testing.csv')\n"
   ],
   "metadata": {
    "collapsed": false
   }
  },
  {
   "cell_type": "code",
   "execution_count": 274,
   "outputs": [],
   "source": [
    "def processing_steps(df):\n",
    "    # process target feature\n",
    "    df['Class'] = df['Class'].replace(\"S\", 1)\n",
    "    df['Class'] = df['Class'].fillna(0)\n",
    "\n",
    "    # convert the time to a more usable format (from testing time does not seem to be a useful metric)\n",
    "    df['EventTime'] = pd.to_datetime(df['EventTime'])\n",
    "    df['weekday'] = df['EventTime'].dt.weekday\n",
    "    df['hour'] = df['EventTime'].dt.hour\n",
    "    df['minute'] = df['EventTime'].dt.minute\n",
    "    # removes the actual time element, since not used by the model\n",
    "    df = df.drop('EventTime', axis=1)\n",
    "\n",
    "    # add in a time element\n",
    "    window = 10\n",
    "    df['rolling_average'] = df['Measure'].rolling(window=window).mean()\n",
    "    df['diff_mean'] = df['Measure'] - df['rolling_average']\n",
    "    for i in range(1, window):\n",
    "        df[f'lag_{i}'] = df['Measure'].shift(i)\n",
    "        df[f'percent_change_{i}'] = df['Measure'].pct_change()\n",
    "        df[f'diff_lag_{i}'] = df['Measure'] - df[f'lag_{i}']\n",
    "\n",
    "        # if you know whether the previous instance did fall into the dramatic shift, but I am leaving it out for the timebeing, since I assume we wouldn't know that\n",
    "        # df[f'class_lag_{i}'] = df['Class'].shift(i)\n",
    "\n",
    "    # technically this is losing the first window elements, but this demonstrates the idea (to compensate you either need to read in the test set and split again or you use a model that can handle nans)\n",
    "    df = df.dropna()\n",
    "\n",
    "    y = df[\"Class\"]\n",
    "    X = df.drop(\"Class\", axis=1)\n",
    "    return X, y"
   ],
   "metadata": {
    "collapsed": false
   }
  },
  {
   "cell_type": "code",
   "execution_count": 275,
   "outputs": [],
   "source": [
    "\n",
    "X_train, y_train = processing_steps(train_df)\n",
    "X_test, y_test = processing_steps(test_df)\n"
   ],
   "metadata": {
    "collapsed": false
   }
  },
  {
   "cell_type": "code",
   "execution_count": 276,
   "outputs": [],
   "source": [
    "from sklearn.ensemble import RandomForestClassifier\n",
    "\n",
    "model = RandomForestClassifier()\n",
    "model.fit(X_train, y_train)\n",
    "y_pred = model.predict(X_test)"
   ],
   "metadata": {
    "collapsed": false
   }
  },
  {
   "cell_type": "code",
   "execution_count": 277,
   "outputs": [
    {
     "name": "stdout",
     "output_type": "stream",
     "text": [
      "f1 score = 0.5128205128205129\n",
      "balanced accuracy = 0.6785087247841198\n",
      "accuracy = 0.9976255936015996\n",
      "precision = 0.9090909090909091\n",
      "recall = 0.35714285714285715\n",
      "roc = 0.6785087247841198\n",
      "confusion_matrix \n",
      "[[7973    1]\n",
      " [  18   10]]\n"
     ]
    }
   ],
   "source": [
    "from sklearn.metrics import f1_score, accuracy_score, balanced_accuracy_score, precision_score, recall_score, \\\n",
    "    roc_auc_score, confusion_matrix\n",
    "\n",
    "\n",
    "def metrics(y_test, y_pred):\n",
    "    print(f'f1 score = {f1_score(y_test, y_pred)}')\n",
    "    print(f'balanced accuracy = {balanced_accuracy_score(y_test, y_pred)}')\n",
    "    print(f'accuracy = {accuracy_score(y_test, y_pred)}')\n",
    "    print(f'precision = {precision_score(y_test, y_pred)}')\n",
    "    print(f'recall = {recall_score(y_test, y_pred)}')\n",
    "    print(f'roc = {roc_auc_score(y_test, y_pred)}')\n",
    "\n",
    "    CM = confusion_matrix(y_test, y_pred)\n",
    "    print(f'confusion_matrix \\n{CM}')\n",
    "\n",
    "\n",
    "metrics(y_test, y_pred)\n",
    "# basically there is extreme inbalance, where 6-7 pf the 28 anomolies are easy to identify, so the model only predicts them when completely certain"
   ],
   "metadata": {
    "collapsed": false
   }
  },
  {
   "cell_type": "code",
   "execution_count": 277,
   "outputs": [],
   "source": [
    "\n"
   ],
   "metadata": {
    "collapsed": false
   }
  },
  {
   "cell_type": "code",
   "execution_count": 278,
   "outputs": [],
   "source": [
    "y_pred_prob = model.predict_proba(X_test)[:, 0]\n"
   ],
   "metadata": {
    "collapsed": false
   }
  },
  {
   "cell_type": "code",
   "execution_count": 279,
   "outputs": [
    {
     "name": "stdout",
     "output_type": "stream",
     "text": [
      "0.05513230499122147\n"
     ]
    },
    {
     "data": {
      "text/plain": "<Figure size 432x288 with 1 Axes>",
      "image/png": "[encoded data removed]"
     },
     "metadata": {
      "needs_background": "light"
     },
     "output_type": "display_data"
    }
   ],
   "source": [
    "# plotting the ROC curve to get an indication of the threshold\n",
    "# there is a linear relationship where you can balance to let it more normal cases in exchange for letting in more false positives\n",
    "import matplotlib.pyplot as plt\n",
    "from sklearn.metrics import roc_curve, auc\n",
    "\n",
    "fpr = dict()\n",
    "tpr = dict()\n",
    "roc_auc = dict()\n",
    "for i in range(2):\n",
    "    fpr[i], tpr[i], _ = roc_curve(y_test, y_pred_prob)\n",
    "    roc_auc[i] = auc(fpr[i], tpr[i])\n",
    "print(roc_auc_score(y_test, y_pred_prob))\n",
    "\n",
    "plt.figure()\n",
    "plt.plot(fpr[1], tpr[1])\n",
    "plt.xlim([0.0, 1.0])\n",
    "plt.ylim([0.0, 1.05])\n",
    "plt.xlabel('False Positive Rate')\n",
    "plt.ylabel('True Positive Rate')\n",
    "plt.title('Receiver operating characteristic')\n",
    "plt.show()"
   ],
   "metadata": {
    "collapsed": false
   }
  },
  {
   "cell_type": "code",
   "execution_count": 280,
   "outputs": [
    {
     "name": "stdout",
     "output_type": "stream",
     "text": [
      "f1 score = 0.36231884057971014\n",
      "balanced accuracy = 0.9410987495073274\n",
      "accuracy = 0.9890027493126718\n",
      "precision = 0.22727272727272727\n",
      "recall = 0.8928571428571429\n",
      "roc = 0.9410987495073273\n",
      "confusion_matrix \n",
      "[[7889   85]\n",
      " [   3   25]]\n"
     ]
    }
   ],
   "source": [
    "import numpy as np\n",
    "# if detecting the outliers are really important, you can add in a few false positives here (based on business requirements you can adjust the acceptable threshold)\n",
    "new_pred = np.where(y_pred_prob < 1, 1, 0)\n",
    "metrics(y_test, new_pred)"
   ],
   "metadata": {
    "collapsed": false
   }
  },
  {
   "cell_type": "code",
   "execution_count": 280,
   "outputs": [],
   "source": [],
   "metadata": {
    "collapsed": false
   }
  },
  {
   "cell_type": "code",
   "execution_count": 280,
   "outputs": [],
   "source": [],
   "metadata": {
    "collapsed": false
   }
  }
 ],
 "metadata": {
  "kernelspec": {
   "display_name": "Python 3",
   "language": "python",
   "name": "python3"
  },
  "language_info": {
   "codemirror_mode": {
    "name": "ipython",
    "version": 2
   },
   "file_extension": ".py",
   "mimetype": "text/x-python",
   "name": "python",
   "nbconvert_exporter": "python",
   "pygments_lexer": "ipython2",
   "version": "2.7.6"
  }
 },
 "nbformat": 4,
 "nbformat_minor": 0
}
